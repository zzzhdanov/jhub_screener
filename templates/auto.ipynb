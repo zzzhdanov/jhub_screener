{
 "cells": [
  {
   "cell_type": "markdown",
   "id": "cd80ac06-c6ef-489e-95d1-a77fad521ba4",
   "metadata": {},
   "source": [
    "--WORKING"
   ]
  },
  {
   "cell_type": "markdown",
   "id": "1715481d-491f-4534-86f2-adf175115ffd",
   "metadata": {},
   "source": [
    "**------------------------------------------------------------------------------------------------------------**"
   ]
  },
  {
   "cell_type": "code",
   "execution_count": 49,
   "id": "1cc9f40a-c8e8-402c-a806-09e05de84e1f",
   "metadata": {},
   "outputs": [],
   "source": [
    "from email.message import EmailMessage\n",
    "import configparser\n",
    "import datetime\n",
    "import requests\n",
    "import smtplib\n",
    "import csv\n",
    "import os"
   ]
  },
  {
   "cell_type": "code",
   "execution_count": null,
   "id": "0a3c24bc-3f98-4617-83d3-88d3d66bdb0f",
   "metadata": {},
   "outputs": [],
   "source": [
    "#ping\n",
    "with open('ping.txt', 'a') as f:\n",
    "    f.seek(0, 2)\n",
    "    f.write(f'{datetime.datetime.now()}\\n')"
   ]
  },
  {
   "cell_type": "code",
   "execution_count": null,
   "id": "0ca5af4e-86a5-4d43-9f74-52b9b7e5fd24",
   "metadata": {},
   "outputs": [],
   "source": [
    "#credentials\n",
    "config = configparser.ConfigParser()\n",
    "config.read('config.ini', encoding='utf-8-sig')"
   ]
  },
  {
   "cell_type": "markdown",
   "id": "e429e45a-1f9a-4272-8774-546cf3c5f841",
   "metadata": {},
   "source": [
    "# Автоматический скрининг метрик"
   ]
  },
  {
   "cell_type": "markdown",
   "id": "6f572f76-d951-46e5-ad35-84b366d5c40c",
   "metadata": {},
   "source": [
    "Данный блокнот предназачен для автоматического отслеживания состояния метрик и отправки отчетов на электронную почту в случае критического изменения"
   ]
  },
  {
   "cell_type": "markdown",
   "id": "b651b128-b860-4c7a-ae9f-42845ab1b325",
   "metadata": {},
   "source": [
    "Все ячейки, которые необходимо заполнить самостоятельно в соответствии с необходимой логикой будут помечены **отделяющими линиями**. Те ячейки, которые выполняют остальную \"организационную\" часть, никак помечаться не будут"
   ]
  },
  {
   "cell_type": "markdown",
   "id": "0dcb49b2-6f7b-4b22-92f8-ead000cd3e1c",
   "metadata": {},
   "source": [
    "Весь представленный ниже код выполняется в соответствии с расписанием. По умолчанию - **каждый час**"
   ]
  },
  {
   "cell_type": "markdown",
   "id": "f90e33ff-4973-40fb-b660-874e062cd0e7",
   "metadata": {},
   "source": [
    "**ВАЖНО!** Самая верхняя содержит статус блокнота.\n",
    " - при значении **WORKING** ноутбук отрабатывает в соответствии с расписанием\n",
    " - при любом другом значении блокнот перестают циклически выполняться"
   ]
  },
  {
   "cell_type": "markdown",
   "id": "fd196c11-b06e-4b9f-ba10-9108331af30f",
   "metadata": {},
   "source": [
    "Периодически исполняется только блокнот с названием `auto.ipynb`"
   ]
  },
  {
   "cell_type": "markdown",
   "id": "f82f8d10-d046-48a8-bdfc-3e6b5e49c73d",
   "metadata": {},
   "source": [
    "Далее будет приведена инструкция по использованию и кастомизации процесса"
   ]
  },
  {
   "cell_type": "markdown",
   "id": "204d24cb-4722-438f-8ccd-93920a67d98c",
   "metadata": {},
   "source": [
    "## 1. Предписания"
   ]
  },
  {
   "cell_type": "markdown",
   "id": "412adc23-6dc3-4fd1-9dd7-aea1e3f00a1c",
   "metadata": {},
   "source": [
    "### Создание пароля"
   ]
  },
  {
   "cell_type": "markdown",
   "id": "d61f8922-9fce-4a3e-b266-704d2359f1a6",
   "metadata": {},
   "source": [
    "Как было указано выше, в случае критического изменения метрики предполагается отправка уведомления на почту для незамедлительного реагирования. "
   ]
  },
  {
   "cell_type": "markdown",
   "id": "cba230a3-0d84-49b5-aa58-bd4c4d5c927d",
   "metadata": {},
   "source": [
    "Если Вы посчитаете удобным отправлять уведомления от своего лица (т.е с корпоративной почты WB), ниже приведена небольшая инструкция для получения доступа"
   ]
  },
  {
   "cell_type": "markdown",
   "id": "927fb031-4523-470d-b17f-41b1d443436a",
   "metadata": {},
   "source": [
    "- 1) Для начала необходимо зайти в настройки Яндекс.ID из-под корпоративного аккаунта\n",
    "- 2) Далее перейти в раздел **Безопасность**\n",
    "- 3) В самом низу страницы перейти на **Пароли приложений**\n",
    "- 4) После чего в разделе **Создать пароль приложения** выберете вариант **Почта (IMAP,POP3,SMTP)**\n",
    "- 5) Сохраните полученный пароль"
   ]
  },
  {
   "cell_type": "markdown",
   "id": "11b33a25-30d7-4c68-86fa-58cc10e7f719",
   "metadata": {},
   "source": [
    "Именно этот пароль Вы и будете испольовать для отправки сообщений "
   ]
  },
  {
   "cell_type": "markdown",
   "id": "a180a85b-b720-47db-83d1-d0a86fe2d818",
   "metadata": {},
   "source": [
    "### Файл конфигурации"
   ]
  },
  {
   "cell_type": "markdown",
   "id": "7c3207c3-2861-43d8-be00-9b65d8eb75cb",
   "metadata": {},
   "source": [
    "Для хранения паролей предназначен файл конфигурации. Полученный из пункта выше пароль а также другие авторизационные данные необходимо поместить в вайл `config.ini`"
   ]
  },
  {
   "cell_type": "code",
   "execution_count": null,
   "id": "3a6cddfe-1954-49e7-b44a-96754bec09e5",
   "metadata": {},
   "outputs": [],
   "source": [
    "#      cтруктура файла\n",
    "\n",
    "#     [credentials]\n",
    "#     testpassword = testpass\n",
    "#     ..."
   ]
  },
  {
   "cell_type": "markdown",
   "id": "dde35c55-3c28-438f-a0ed-7ae89ea1ebe8",
   "metadata": {},
   "source": [
    "Для доступа к данным используйте код `config.get('credentials', 'testpassword')`, где\n",
    " - `credentials`- название заголовка (по умолчанию)\n",
    " - `testpassword` - поле, содержащее пароль"
   ]
  },
  {
   "cell_type": "markdown",
   "id": "6d4f8001-e4d9-46b5-a4c9-ee1b7d715ea9",
   "metadata": {},
   "source": [
    "## 2. Создание метрики"
   ]
  },
  {
   "cell_type": "markdown",
   "id": "8a71671c-33cb-4564-8ccd-a26eaf37e9cc",
   "metadata": {},
   "source": [
    "Под метрикой предполагается некоторая численная величина, получаемая в результате выполнения запроса и меняющаяся в зависимости от момента времени, когда запрос был выполнен. "
   ]
  },
  {
   "cell_type": "markdown",
   "id": "0071135d-46a4-4892-9529-b50fd1e78714",
   "metadata": {},
   "source": [
    "В ячейке ниже предполагается написание необходимого коннектора к соответствующей базе данных и запрос необходимых метрик"
   ]
  },
  {
   "cell_type": "code",
   "execution_count": null,
   "id": "f31156a8-ea5c-4765-8891-531dd9407bb0",
   "metadata": {},
   "outputs": [],
   "source": [
    "# Code"
   ]
  },
  {
   "cell_type": "markdown",
   "id": "aa911770-2f15-4898-916c-326c0e713de5",
   "metadata": {},
   "source": [
    "Далее словарь `data` ячейке ниже необходимо заполнить следующим образом:\n",
    " - в качестве ключа указать названия метрик в качестве строки\n",
    " - в качестве значения указать полученные в результате запроса значения метрик"
   ]
  },
  {
   "cell_type": "markdown",
   "id": "2d6c38b3-8074-45cd-9539-fc6677c22ac8",
   "metadata": {},
   "source": [
    "К примеру, если скрипт Python в качестве ответа на SQL запрос записывает в переменную `result` значения метрики DAU, то одна из записией словаря будет выглядеть следующим образом\n",
    "`data = {\"dau\": result}`"
   ]
  },
  {
   "cell_type": "markdown",
   "id": "4d613aca-4fe4-43fb-bd4c-a91a695b6b81",
   "metadata": {},
   "source": [
    "**------------------------------ОБЯЗАТЕЛЬНО К ЗАПОЛНЕНИЮ---------------------------------------**"
   ]
  },
  {
   "cell_type": "code",
   "execution_count": null,
   "id": "e8abbce1-02fd-44ee-ac71-1ca7b13051ff",
   "metadata": {},
   "outputs": [],
   "source": [
    " data = {}"
   ]
  },
  {
   "cell_type": "markdown",
   "id": "d03f8b0a-a311-4f31-8b74-363d254f6996",
   "metadata": {},
   "source": [
    "**------------------------------------------------------------------------------------------------------------**"
   ]
  },
  {
   "cell_type": "markdown",
   "id": "25dda4cb-76ee-418d-a7c7-24b73dedaabb",
   "metadata": {},
   "source": [
    "Эти данные будут использованы для записи cvs-файла и последующей обработки"
   ]
  },
  {
   "cell_type": "code",
   "execution_count": null,
   "id": "86c192b9-7a54-4883-9bc9-4c62cc13518e",
   "metadata": {},
   "outputs": [],
   "source": [
    "FILENAME='logs.csv'"
   ]
  },
  {
   "cell_type": "code",
   "execution_count": null,
   "id": "978708db-9571-4df2-9f5a-462535e7c426",
   "metadata": {},
   "outputs": [],
   "source": [
    "if (data != {}):\n",
    "    with open(FILENAME, 'a', newline=\"\") as file:\n",
    "        data[\"datetime\"] = datetime.datetime.now()\n",
    "        writer = csv.DictWriter(file, fieldnames=list(data.keys()))\n",
    "        if os.stat(FILENAME).st_size == 0:\n",
    "            writer.writeheader()\n",
    "        writer.writerow(data)"
   ]
  },
  {
   "cell_type": "markdown",
   "id": "5bae196e-5f96-494f-99fc-0abfc71a6ff5",
   "metadata": {},
   "source": [
    "## 3. Обнаружение критических значений"
   ]
  },
  {
   "cell_type": "markdown",
   "id": "3d8e5b48-fc9d-468a-a592-8ffdd1c85237",
   "metadata": {},
   "source": [
    "Как было указано выше, на основе истории запроса метрик строится и автоматически дополняется cvs файл"
   ]
  },
  {
   "cell_type": "markdown",
   "id": "b432e361-2726-4323-9ec7-47ed6cc72486",
   "metadata": {},
   "source": [
    "Ниже предполагается написание кода для анализа состояния метрик (файла) и создание переменной `is_critical` типа `bool` такой, что\n",
    " - если требуется отправка уведомления, переменная должна принимать значение `True`\n",
    " - иначе - `False`"
   ]
  },
  {
   "cell_type": "markdown",
   "id": "73078f14-5e39-465a-adb1-0775ea276d82",
   "metadata": {},
   "source": [
    "**------------------------------ОБЯЗАТЕЛЬНО К ЗАПОЛНЕНИЮ---------------------------------------**"
   ]
  },
  {
   "cell_type": "code",
   "execution_count": 18,
   "id": "4ecb57f1-8d81-4079-9e6c-739a50fa9b9d",
   "metadata": {},
   "outputs": [],
   "source": [
    "## import pandas as pd\n",
    "## ...\n",
    "is_critical: bool = ..."
   ]
  },
  {
   "cell_type": "markdown",
   "id": "d10eed62-1c78-409e-9d05-06db05c68291",
   "metadata": {},
   "source": [
    "**------------------------------------------------------------------------------------------------------------**"
   ]
  },
  {
   "cell_type": "markdown",
   "id": "efb3746b-eeb5-4402-bed6-6a6d86162798",
   "metadata": {},
   "source": [
    "## 4. Отправка уведомлений"
   ]
  },
  {
   "cell_type": "code",
   "execution_count": 26,
   "id": "91644e06-b8a2-4e34-8f57-bacd5c7d664d",
   "metadata": {},
   "outputs": [],
   "source": [
    "def send_notification(username: str,\n",
    "        password: str, \n",
    "        topic: str,\n",
    "        content: str,\n",
    "        recipients: list,\n",
    "        smtp_server = 'smtp.yandex.ru',\n",
    "        smtp_port = 465):\n",
    "    \n",
    "        msg = EmailMessage()\n",
    "        msg.set_content(content)\n",
    "        msg['Subject'] = topic\n",
    "        msg['From'] = username\n",
    "        msg['To'] = ', '.join(recipients)\n",
    "        server = smtplib.SMTP_SSL(smtp_server, smtp_port)\n",
    "        server.login(username, password)\n",
    "        server.send_message(msg)\n",
    "        server.quit()"
   ]
  },
  {
   "cell_type": "markdown",
   "id": "78629067-0a2d-4bbf-8b98-31ea910d8ddb",
   "metadata": {},
   "source": [
    "Для отправки уведомления используется функция `send_notification`, в параметры которой передаются:\n",
    "- `username: str` - Ваша почта в домене @wb.ru\n",
    "- `password: str` - полученный пароль из п.1\n",
    "- `topic: str` - тема сообщения\n",
    "- `content: str` - содержимое сообщения\n",
    "- `recipients: list[str]` - адресаты. Например `[\"user1@wb.ru\", \"user2@wb.ru\"]` "
   ]
  },
  {
   "cell_type": "markdown",
   "id": "37250869-1d28-492f-9124-444c73f0fe6a",
   "metadata": {},
   "source": [
    "В поле ниже предполагается дописать недостающие параметры"
   ]
  },
  {
   "cell_type": "markdown",
   "id": "e4f263b3-e0e7-458d-8682-fe4f5cf76915",
   "metadata": {},
   "source": [
    "**------------------------------ОБЯЗАТЕЛЬНО К ЗАПОЛНЕНИЮ---------------------------------------**"
   ]
  },
  {
   "cell_type": "code",
   "execution_count": null,
   "id": "844da7c8-f256-463b-908d-fb4bfa72e44c",
   "metadata": {},
   "outputs": [],
   "source": [
    "if is_critical:\n",
    "    send_notification(username=...,\n",
    "                    password=..., \n",
    "                    topic=...,\n",
    "                    content=...,\n",
    "                    recipients=...)"
   ]
  },
  {
   "cell_type": "markdown",
   "id": "50aac574-a185-4157-97a0-71ce149e3840",
   "metadata": {},
   "source": [
    "**------------------------------------------------------------------------------------------------------------**"
   ]
  }
 ],
 "metadata": {
  "kernelspec": {
   "display_name": "Python 3 (ipykernel)",
   "language": "python",
   "name": "python3"
  },
  "language_info": {
   "codemirror_mode": {
    "name": "ipython",
    "version": 3
   },
   "file_extension": ".py",
   "mimetype": "text/x-python",
   "name": "python",
   "nbconvert_exporter": "python",
   "pygments_lexer": "ipython3",
   "version": "3.10.12"
  }
 },
 "nbformat": 4,
 "nbformat_minor": 5
}
